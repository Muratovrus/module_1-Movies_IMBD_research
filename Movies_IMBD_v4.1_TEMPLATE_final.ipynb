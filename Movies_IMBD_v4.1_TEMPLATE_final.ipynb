{
 "cells": [
  {
   "cell_type": "code",
   "execution_count": 5,
   "metadata": {
    "_cell_guid": "b1076dfc-b9ad-4769-8c92-a6c4dae69d19",
    "_uuid": "8f2839f25d086af736a60e9eeb907d3b93b6e0e5",
    "colab": {},
    "colab_type": "code",
    "id": "U2D2gTdJVp90"
   },
   "outputs": [],
   "source": [
    "import numpy as np\n",
    "import pandas as pd\n",
    "import seaborn as sns\n",
    "import matplotlib.pyplot as plt\n",
    "from collections import Counter"
   ]
  },
  {
   "cell_type": "code",
   "execution_count": 41,
   "metadata": {
    "_cell_guid": "79c7e3d0-c299-4dcb-8224-4455121ee9b0",
    "_uuid": "d629ff2d2480ee46fbb7e2d37f6b5fab8052498a",
    "colab": {},
    "colab_type": "code",
    "id": "oyGfxL3eVp9-"
   },
   "outputs": [
    {
     "data": {
      "text/html": [
       "<div>\n",
       "<style scoped>\n",
       "    .dataframe tbody tr th:only-of-type {\n",
       "        vertical-align: middle;\n",
       "    }\n",
       "\n",
       "    .dataframe tbody tr th {\n",
       "        vertical-align: top;\n",
       "    }\n",
       "\n",
       "    .dataframe thead th {\n",
       "        text-align: right;\n",
       "    }\n",
       "</style>\n",
       "<table border=\"1\" class=\"dataframe\">\n",
       "  <thead>\n",
       "    <tr style=\"text-align: right;\">\n",
       "      <th></th>\n",
       "      <th>imdb_id</th>\n",
       "      <th>budget</th>\n",
       "      <th>revenue</th>\n",
       "      <th>original_title</th>\n",
       "      <th>cast</th>\n",
       "      <th>director</th>\n",
       "      <th>tagline</th>\n",
       "      <th>overview</th>\n",
       "      <th>runtime</th>\n",
       "      <th>genres</th>\n",
       "      <th>production_companies</th>\n",
       "      <th>release_date</th>\n",
       "      <th>vote_average</th>\n",
       "      <th>release_year</th>\n",
       "    </tr>\n",
       "  </thead>\n",
       "  <tbody>\n",
       "    <tr>\n",
       "      <th>1572</th>\n",
       "      <td>tt0338526</td>\n",
       "      <td>160000000</td>\n",
       "      <td>300257475</td>\n",
       "      <td>Van Helsing</td>\n",
       "      <td>Hugh Jackman|Kate Beckinsale|Richard Roxburgh|...</td>\n",
       "      <td>Stephen Sommers</td>\n",
       "      <td>The One Name They All Fear.</td>\n",
       "      <td>Famed monster slayer Gabriel Van Helsing is di...</td>\n",
       "      <td>132</td>\n",
       "      <td>Horror|Adventure|Action</td>\n",
       "      <td>Universal Pictures|Stillking Films|Sommers Com...</td>\n",
       "      <td>5/5/2004</td>\n",
       "      <td>5.9</td>\n",
       "      <td>2004</td>\n",
       "    </tr>\n",
       "    <tr>\n",
       "      <th>509</th>\n",
       "      <td>tt0252866</td>\n",
       "      <td>30000000</td>\n",
       "      <td>287553595</td>\n",
       "      <td>American Pie 2</td>\n",
       "      <td>Jason Biggs|Thomas Ian Nicholas|Chris Klein|Se...</td>\n",
       "      <td>J.B. Rogers</td>\n",
       "      <td>This Summer It's All About Sticking Together.</td>\n",
       "      <td>The whole gang are back and as close as ever. ...</td>\n",
       "      <td>108</td>\n",
       "      <td>Comedy|Romance</td>\n",
       "      <td>Universal Pictures|Liveplanet|Zide-Perry Produ...</td>\n",
       "      <td>8/10/2001</td>\n",
       "      <td>5.9</td>\n",
       "      <td>2001</td>\n",
       "    </tr>\n",
       "    <tr>\n",
       "      <th>472</th>\n",
       "      <td>tt1212419</td>\n",
       "      <td>50000000</td>\n",
       "      <td>105197635</td>\n",
       "      <td>Hereafter</td>\n",
       "      <td>Matt Damon|Bryce Dallas Howard|George McLaren|...</td>\n",
       "      <td>Clint Eastwood</td>\n",
       "      <td>Touched by death. Changed by life.</td>\n",
       "      <td>A supernatural thriller centered on three peop...</td>\n",
       "      <td>129</td>\n",
       "      <td>Drama|Fantasy</td>\n",
       "      <td>Amblin Entertainment|Malpaso Productions|Warne...</td>\n",
       "      <td>10/15/2010</td>\n",
       "      <td>5.5</td>\n",
       "      <td>2010</td>\n",
       "    </tr>\n",
       "    <tr>\n",
       "      <th>1214</th>\n",
       "      <td>tt0790736</td>\n",
       "      <td>130000000</td>\n",
       "      <td>61648500</td>\n",
       "      <td>R.I.P.D.</td>\n",
       "      <td>Jeff Bridges|Ryan Reynolds|Kevin Bacon|Stephan...</td>\n",
       "      <td>Robert Schwentke</td>\n",
       "      <td>To protect and serve the living</td>\n",
       "      <td>A recently slain cop joins a team of undead po...</td>\n",
       "      <td>96</td>\n",
       "      <td>Fantasy|Action|Comedy|Crime</td>\n",
       "      <td>Universal Pictures|Original Film|Dark Horse En...</td>\n",
       "      <td>7/18/2013</td>\n",
       "      <td>5.3</td>\n",
       "      <td>2013</td>\n",
       "    </tr>\n",
       "    <tr>\n",
       "      <th>851</th>\n",
       "      <td>tt1596343</td>\n",
       "      <td>125000000</td>\n",
       "      <td>626137675</td>\n",
       "      <td>Fast Five</td>\n",
       "      <td>Vin Diesel|Paul Walker|Dwayne Johnson|Jordana ...</td>\n",
       "      <td>Justin Lin</td>\n",
       "      <td>Get the Fifth Gear.</td>\n",
       "      <td>Former cop Brian O'Conner partners with ex-con...</td>\n",
       "      <td>130</td>\n",
       "      <td>Action|Thriller|Crime</td>\n",
       "      <td>Universal Pictures|Original Film|One Race Prod...</td>\n",
       "      <td>4/20/2011</td>\n",
       "      <td>7.1</td>\n",
       "      <td>2011</td>\n",
       "    </tr>\n",
       "  </tbody>\n",
       "</table>\n",
       "</div>"
      ],
      "text/plain": [
       "        imdb_id     budget    revenue  original_title  \\\n",
       "1572  tt0338526  160000000  300257475     Van Helsing   \n",
       "509   tt0252866   30000000  287553595  American Pie 2   \n",
       "472   tt1212419   50000000  105197635       Hereafter   \n",
       "1214  tt0790736  130000000   61648500        R.I.P.D.   \n",
       "851   tt1596343  125000000  626137675       Fast Five   \n",
       "\n",
       "                                                   cast          director  \\\n",
       "1572  Hugh Jackman|Kate Beckinsale|Richard Roxburgh|...   Stephen Sommers   \n",
       "509   Jason Biggs|Thomas Ian Nicholas|Chris Klein|Se...       J.B. Rogers   \n",
       "472   Matt Damon|Bryce Dallas Howard|George McLaren|...    Clint Eastwood   \n",
       "1214  Jeff Bridges|Ryan Reynolds|Kevin Bacon|Stephan...  Robert Schwentke   \n",
       "851   Vin Diesel|Paul Walker|Dwayne Johnson|Jordana ...        Justin Lin   \n",
       "\n",
       "                                            tagline  \\\n",
       "1572                    The One Name They All Fear.   \n",
       "509   This Summer It's All About Sticking Together.   \n",
       "472              Touched by death. Changed by life.   \n",
       "1214                To protect and serve the living   \n",
       "851                             Get the Fifth Gear.   \n",
       "\n",
       "                                               overview  runtime  \\\n",
       "1572  Famed monster slayer Gabriel Van Helsing is di...      132   \n",
       "509   The whole gang are back and as close as ever. ...      108   \n",
       "472   A supernatural thriller centered on three peop...      129   \n",
       "1214  A recently slain cop joins a team of undead po...       96   \n",
       "851   Former cop Brian O'Conner partners with ex-con...      130   \n",
       "\n",
       "                           genres  \\\n",
       "1572      Horror|Adventure|Action   \n",
       "509                Comedy|Romance   \n",
       "472                 Drama|Fantasy   \n",
       "1214  Fantasy|Action|Comedy|Crime   \n",
       "851         Action|Thriller|Crime   \n",
       "\n",
       "                                   production_companies release_date  \\\n",
       "1572  Universal Pictures|Stillking Films|Sommers Com...     5/5/2004   \n",
       "509   Universal Pictures|Liveplanet|Zide-Perry Produ...    8/10/2001   \n",
       "472   Amblin Entertainment|Malpaso Productions|Warne...   10/15/2010   \n",
       "1214  Universal Pictures|Original Film|Dark Horse En...    7/18/2013   \n",
       "851   Universal Pictures|Original Film|One Race Prod...    4/20/2011   \n",
       "\n",
       "      vote_average  release_year  \n",
       "1572           5.9          2004  \n",
       "509            5.9          2001  \n",
       "472            5.5          2010  \n",
       "1214           5.3          2013  \n",
       "851            7.1          2011  "
      ]
     },
     "execution_count": 41,
     "metadata": {},
     "output_type": "execute_result"
    }
   ],
   "source": [
    "data = pd.read_csv('movie_bd_v5.csv')\n",
    "data.sample(5)"
   ]
  },
  {
   "cell_type": "code",
   "execution_count": 564,
   "metadata": {
    "colab": {},
    "colab_type": "code",
    "id": "CoYUnagMVp-C"
   },
   "outputs": [],
   "source": [
    "# в словарь вставляем номер вопроса и ваш ответ на него\n",
    "# Пример: \n",
    "answers['1'] = '2. Spider-Man 3 (tt0413300)'\n",
    "# запишите свой вариант ответа\n",
    "answers['1'] = '...'\n",
    "# если ответили верно, можете добавить комментарий со значком \"+\"\n",
    "answers['1'] = '5. Pirates of the Caribbean: On Stranger Tides (tt1298650)' # +\n",
    "answers['2'] = '2. Gods and Generals (tt0279111)' # +\n",
    "answers['3'] = '3. Winnie the Pooh (tt1449283)' # +\n",
    "answers['4'] = '2. 110' # +\n",
    "answers['5'] = '1. 107' # +\n",
    "answers['6'] = '5. Avatar (tt0499549)' # +\n",
    "answers['7'] = '5. The Lone Ranger (tt1210819)' # +\n",
    "answers['8'] = '1. 1478' # +\n",
    "answers['9'] = '4. The Dark Knight (tt0468569)' # +\n",
    "answers['10'] = '5. The Lone Ranger (tt1210819)' # +\n",
    "answers['11'] = '3. Drama' # +\n",
    "answers['12'] = '1. Drama' # +\n",
    "answers['13'] = '5. Peter Jackson' # +\n",
    "answers['14'] = '3. Robert Rodriguez' # +\n",
    "answers['15'] = '3. Chris Hemsworth' # +\n",
    "answers['16'] = '3. Matt Damon' # +\n",
    "answers['17'] = '2. Action' # +\n",
    "answers['18'] = '1. K-19: The Widowmaker (tt0267626)' # +\n",
    "answers['19'] = '5. 2015' # +\n",
    "answers['20'] = '1. 2014'# +\n",
    "answers['21'] = '4. September'# +\n",
    "answers['22'] = '2. 450'# +\n",
    "answers['23'] = '5. Peter Jackson'# +\n",
    "answers['24'] = '5. Four By Two Productions'# +\n",
    "answers['25'] = '3. Midnight Picture Show'# +\n",
    "answers['26'] = ''# +\n",
    "answers['27'] = '5. Daniel Radcliffe, Rupert Grint' # +"
   ]
  },
  {
   "cell_type": "markdown",
   "metadata": {
    "colab_type": "text",
    "id": "DTIt7ezGVp-G"
   },
   "source": [
    "# Предобработка"
   ]
  },
  {
   "cell_type": "code",
   "execution_count": 42,
   "metadata": {
    "colab": {},
    "colab_type": "code",
    "id": "jNb40DwKVp-H"
   },
   "outputs": [],
   "source": [
    "answers = {} # создадим словарь для ответов\n",
    "\n",
    "data['profit'] = data['revenue'] - data['budget']  #получаем столбец profit для решения заданий в дальнейшем\n",
    "# тут другие ваши предобработки колонок например:\n",
    "full_genres_list = [] # task 11. вариант 2. создаем цикл, который создает список всех жанров в датафрейме\n",
    "for g in data.genres:\n",
    "    if g.find('|') >= 0:\n",
    "        for i in g.split('|'):\n",
    "            full_genres_list.append(i)\n",
    "    else:\n",
    "        full_genres_list.append(g)"
   ]
  },
  {
   "cell_type": "markdown",
   "metadata": {
    "colab_type": "text",
    "id": "YxZaH-nPVp-L"
   },
   "source": [
    "# 1. У какого фильма из списка самый большой бюджет?"
   ]
  },
  {
   "cell_type": "markdown",
   "metadata": {
    "colab_type": "text",
    "id": "Nd-G5gX6Vp-M"
   },
   "source": [
    "Использовать варианты ответов в коде решения запрещено.    \n",
    "Вы думаете и в жизни у вас будут варианты ответов?)"
   ]
  },
  {
   "cell_type": "code",
   "execution_count": 563,
   "metadata": {
    "colab": {},
    "colab_type": "code",
    "id": "uVnXAY5RVp-O"
   },
   "outputs": [],
   "source": []
  },
  {
   "cell_type": "code",
   "execution_count": 53,
   "metadata": {
    "colab": {},
    "colab_type": "code",
    "id": "dZwb3m28Vp-S"
   },
   "outputs": [
    {
     "data": {
      "text/plain": [
       "723    tt1298650\n",
       "Name: imdb_id, dtype: object"
      ]
     },
     "execution_count": 53,
     "metadata": {},
     "output_type": "execute_result"
    }
   ],
   "source": [
    "most_budget = data.query('budget == budget.max()').copy()\n",
    "\n",
    "most_budget[most_budget['budget'] == most_budget['budget'].max()].original_title #название фильма с самым большим бюджетом\n",
    "most_budget[most_budget['budget'] == most_budget['budget'].max()].imdb_id #определяем imdb_id фильма с самым большим бюджетом"
   ]
  },
  {
   "cell_type": "markdown",
   "metadata": {
    "colab_type": "text",
    "id": "K7L3nbRXVp-X"
   },
   "source": [
    "ВАРИАНТ 2"
   ]
  },
  {
   "cell_type": "code",
   "execution_count": 54,
   "metadata": {},
   "outputs": [
    {
     "data": {
      "text/plain": [
       "723    tt1298650\n",
       "Name: imdb_id, dtype: object"
      ]
     },
     "execution_count": 54,
     "metadata": {},
     "output_type": "execute_result"
    }
   ],
   "source": [
    "most_budget.query('budget == budget.max()') #определяем фильм с самым большим бюджетом\n",
    "\n",
    "most_budget.original_title\n",
    "most_budget.imdb_id"
   ]
  },
  {
   "cell_type": "code",
   "execution_count": 0,
   "metadata": {
    "colab": {},
    "colab_type": "code",
    "id": "OGaoQI7rVp-X"
   },
   "outputs": [],
   "source": []
  },
  {
   "cell_type": "markdown",
   "metadata": {
    "colab_type": "text",
    "id": "FNRbbI3vVp-c"
   },
   "source": [
    "# 2. Какой из фильмов самый длительный (в минутах)?"
   ]
  },
  {
   "cell_type": "code",
   "execution_count": 608,
   "metadata": {
    "colab": {},
    "colab_type": "code",
    "id": "vHAoEXNTVp-d"
   },
   "outputs": [
    {
     "data": {
      "text/plain": [
       "1157    tt0279111\n",
       "Name: imdb_id, dtype: object"
      ]
     },
     "execution_count": 608,
     "metadata": {},
     "output_type": "execute_result"
    }
   ],
   "source": [
    "longest_film = data.copy()\n",
    "longest_film[longest_film['runtime'] == longest_film['runtime'].max()].imdb_id #imdb_id самого продолжительного фильма"
   ]
  },
  {
   "cell_type": "code",
   "execution_count": 567,
   "metadata": {
    "colab": {},
    "colab_type": "code",
    "id": "ot-VX2XrVp-g"
   },
   "outputs": [
    {
     "data": {
      "text/plain": [
       "1157    Gods and Generals\n",
       "Name: original_title, dtype: object"
      ]
     },
     "execution_count": 567,
     "metadata": {},
     "output_type": "execute_result"
    }
   ],
   "source": [
    "longest_film[longest_film['runtime'] == longest_film['runtime'].max()].original_title #название самого продолжительного фильма"
   ]
  },
  {
   "cell_type": "markdown",
   "metadata": {
    "colab_type": "text",
    "id": "bapLlpW8Vp-k"
   },
   "source": [
    "# 3. Какой из фильмов самый короткий (в минутах)?\n",
    "\n",
    "\n",
    "\n"
   ]
  },
  {
   "cell_type": "code",
   "execution_count": 569,
   "metadata": {
    "colab": {},
    "colab_type": "code",
    "id": "YBxaSHuAVp-l"
   },
   "outputs": [
    {
     "data": {
      "text/plain": [
       "768    tt1449283\n",
       "Name: imdb_id, dtype: object"
      ]
     },
     "execution_count": 569,
     "metadata": {},
     "output_type": "execute_result"
    }
   ],
   "source": [
    "shortest_film = data.copy()\n",
    "shortest_film[shortest_film['runtime'] == shortest_film['runtime'].min()].original_title #название самого короткого фильма\n",
    "shortest_film[shortest_film['runtime'] == shortest_film['runtime'].min()].imdb_id #imdb_id самого короткого фильма"
   ]
  },
  {
   "cell_type": "markdown",
   "metadata": {
    "colab_type": "text",
    "id": "TfQbxbfNVp-p"
   },
   "source": [
    "# 4. Какова средняя длительность фильмов?\n"
   ]
  },
  {
   "cell_type": "code",
   "execution_count": 609,
   "metadata": {
    "colab": {},
    "colab_type": "code",
    "id": "5K6dKZYVVp-q"
   },
   "outputs": [
    {
     "data": {
      "text/plain": [
       "110"
      ]
     },
     "execution_count": 609,
     "metadata": {},
     "output_type": "execute_result"
    }
   ],
   "source": [
    "average_len = data.copy()\n",
    "\n",
    "round(average_len.runtime.mean()) #определяем среднюю длительность фильмов в датафрейме и округляем значение"
   ]
  },
  {
   "cell_type": "markdown",
   "metadata": {
    "colab_type": "text",
    "id": "r5TvbnT_Vp-u"
   },
   "source": [
    "# 5. Каково медианное значение длительности фильмов? "
   ]
  },
  {
   "cell_type": "code",
   "execution_count": 572,
   "metadata": {
    "colab": {},
    "colab_type": "code",
    "id": "iBROplKnVp-v"
   },
   "outputs": [
    {
     "data": {
      "text/plain": [
       "107.0"
      ]
     },
     "execution_count": 572,
     "metadata": {},
     "output_type": "execute_result"
    }
   ],
   "source": [
    "median_len = data.copy()\n",
    "\n",
    "median_len.runtime.median() #определяем медианное значение длительности фильмов"
   ]
  },
  {
   "cell_type": "markdown",
   "metadata": {
    "colab_type": "text",
    "id": "39P-deDSVp-y"
   },
   "source": [
    "# 6. Какой самый прибыльный фильм?\n",
    "#### Внимание! Здесь и далее под «прибылью» или «убытками» понимается разность между сборами и бюджетом фильма. (прибыль = сборы - бюджет) в нашем датасете это будет (profit = revenue - budget) "
   ]
  },
  {
   "cell_type": "code",
   "execution_count": 58,
   "metadata": {
    "colab": {},
    "colab_type": "code",
    "id": "UYZh4T9WVp-y"
   },
   "outputs": [
    {
     "data": {
      "text/plain": [
       "239    tt0499549\n",
       "Name: imdb_id, dtype: object"
      ]
     },
     "execution_count": 58,
     "metadata": {},
     "output_type": "execute_result"
    }
   ],
   "source": [
    "most_profit = data.query('profit == profit.max()').copy()\n",
    "\n",
    "most_profit.original_title #определяем название самого прибыльного фильма\n",
    "most_profit.imdb_id #определяем imdb_id самого прибыльного фильма"
   ]
  },
  {
   "cell_type": "markdown",
   "metadata": {
    "colab_type": "text",
    "id": "M99JmIX4Vp-2"
   },
   "source": [
    "# 7. Какой фильм самый убыточный? "
   ]
  },
  {
   "cell_type": "code",
   "execution_count": 61,
   "metadata": {
    "colab": {},
    "colab_type": "code",
    "id": "w-D2m4XPVp-3"
   },
   "outputs": [
    {
     "data": {
      "text/plain": [
       "1245    tt1210819\n",
       "Name: imdb_id, dtype: object"
      ]
     },
     "execution_count": 61,
     "metadata": {},
     "output_type": "execute_result"
    }
   ],
   "source": [
    "most_unprofit = data.query('profit == profit.min()').copy()\n",
    "\n",
    "most_unprofit.original_title #название самого убыточного фильма\n",
    "most_unprofit.imdb_id #imdb_id самого убыточного фильма"
   ]
  },
  {
   "cell_type": "markdown",
   "metadata": {
    "colab_type": "text",
    "id": "wEOM5ERVVp-6"
   },
   "source": [
    "# 8. У скольких фильмов из датасета объем сборов оказался выше бюджета?"
   ]
  },
  {
   "cell_type": "code",
   "execution_count": 65,
   "metadata": {
    "colab": {},
    "colab_type": "code",
    "id": "y00_7HD6Vp-7"
   },
   "outputs": [
    {
     "name": "stdout",
     "output_type": "stream",
     "text": [
      "<class 'pandas.core.frame.DataFrame'>\n",
      "Int64Index: 1478 entries, 0 to 1884\n",
      "Data columns (total 15 columns):\n",
      " #   Column                Non-Null Count  Dtype  \n",
      "---  ------                --------------  -----  \n",
      " 0   imdb_id               1478 non-null   object \n",
      " 1   budget                1478 non-null   int64  \n",
      " 2   revenue               1478 non-null   int64  \n",
      " 3   original_title        1478 non-null   object \n",
      " 4   cast                  1478 non-null   object \n",
      " 5   director              1478 non-null   object \n",
      " 6   tagline               1478 non-null   object \n",
      " 7   overview              1478 non-null   object \n",
      " 8   runtime               1478 non-null   int64  \n",
      " 9   genres                1478 non-null   object \n",
      " 10  production_companies  1478 non-null   object \n",
      " 11  release_date          1478 non-null   object \n",
      " 12  vote_average          1478 non-null   float64\n",
      " 13  release_year          1478 non-null   int64  \n",
      " 14  profit                1478 non-null   int64  \n",
      "dtypes: float64(1), int64(5), object(9)\n",
      "memory usage: 184.8+ KB\n"
     ]
    }
   ],
   "source": [
    "profit_films = data.query('revenue > budget').copy()\n",
    "profit_films.info() #определяем количество прибыльных фильмов с помощью info()\n",
    "                    #также возможно определние количества прибыльных фильмов с помощью describe() и count()"
   ]
  },
  {
   "cell_type": "markdown",
   "metadata": {
    "colab_type": "text",
    "id": "xhpspA9KVp_A"
   },
   "source": [
    "# 9. Какой фильм оказался самым кассовым в 2008 году?"
   ]
  },
  {
   "cell_type": "code",
   "execution_count": 66,
   "metadata": {
    "colab": {},
    "colab_type": "code",
    "id": "MoUyQr9RVp_B"
   },
   "outputs": [
    {
     "data": {
      "text/plain": [
       "599    tt0468569\n",
       "Name: imdb_id, dtype: object"
      ]
     },
     "execution_count": 66,
     "metadata": {},
     "output_type": "execute_result"
    }
   ],
   "source": [
    "films_2008 = data[data['release_year'] == 2008].copy()\n",
    "\n",
    "films_2008[films_2008['revenue'] == films_2008['revenue'].max()].original_title #название самого кассового фильма в 2008\n",
    "films_2008[films_2008['revenue'] == films_2008['revenue'].max()].imdb_id #imdb_id самого кассового фильма в 2008"
   ]
  },
  {
   "cell_type": "markdown",
   "metadata": {
    "colab_type": "text",
    "id": "Zi4hDKidVp_F"
   },
   "source": [
    "# 10. Самый убыточный фильм за период с 2012 по 2014 г. (включительно)?\n"
   ]
  },
  {
   "cell_type": "code",
   "execution_count": 67,
   "metadata": {
    "colab": {},
    "colab_type": "code",
    "id": "XqyRmufJVp_F"
   },
   "outputs": [
    {
     "data": {
      "text/plain": [
       "1245    tt1210819\n",
       "Name: imdb_id, dtype: object"
      ]
     },
     "execution_count": 67,
     "metadata": {},
     "output_type": "execute_result"
    }
   ],
   "source": [
    "small_data = data.query('budget > revenue').copy()\n",
    "\n",
    "small_data = data[(data['release_year'] >= 2012) & (data['release_year'] <= 2014)] #создаем фильтр для фильмов,\n",
    "                                                                                    #вышедших с 2012 по 2014 г. (включительно)\n",
    "\n",
    "small_data[small_data['profit'] == small_data['profit'].min()].original_title #название самого убыточного фильма (2012-2014)\n",
    "small_data[small_data['profit'] == small_data['profit'].min()].imdb_id #imdb_id самого убыточного фильма (2012-2014)"
   ]
  },
  {
   "cell_type": "markdown",
   "metadata": {
    "colab_type": "text",
    "id": "EA7Sa9dkVp_I"
   },
   "source": [
    "# 11. Какого жанра фильмов больше всего?"
   ]
  },
  {
   "cell_type": "code",
   "execution_count": 205,
   "metadata": {},
   "outputs": [],
   "source": []
  },
  {
   "cell_type": "code",
   "execution_count": 45,
   "metadata": {},
   "outputs": [
    {
     "data": {
      "text/plain": [
       "Drama              782\n",
       "Comedy             683\n",
       "Thriller           596\n",
       "Action             582\n",
       "Adventure          415\n",
       "Crime              315\n",
       "Romance            308\n",
       "Family             260\n",
       "Science Fiction    248\n",
       "Fantasy            222\n",
       "Horror             176\n",
       "Mystery            168\n",
       "Animation          139\n",
       "Music               64\n",
       "History             62\n",
       "War                 58\n",
       "Western             19\n",
       "Documentary          8\n",
       "Foreign              2\n",
       "Name: genres, dtype: int64"
      ]
     },
     "execution_count": 45,
     "metadata": {},
     "output_type": "execute_result"
    }
   ],
   "source": [
    "most_genres = data.copy()\n",
    "\n",
    "most_genres['genres'] = most_genres.genres.str.split('|') #разделяем все жанры в рамках каждого фильма\n",
    "most_genres = most_genres.explode('genres')               #для выяснения наиболее частого повторяемого жанра\n",
    "\n",
    "most_genres.genres.value_counts()"
   ]
  },
  {
   "cell_type": "code",
   "execution_count": null,
   "metadata": {
    "colab": {},
    "colab_type": "code",
    "id": "zsJAwJ8QVp_J"
   },
   "outputs": [],
   "source": []
  },
  {
   "cell_type": "markdown",
   "metadata": {
    "colab_type": "text",
    "id": "Ax6g2C8SVp_M"
   },
   "source": [
    "ВАРИАНТ 2"
   ]
  },
  {
   "cell_type": "code",
   "execution_count": 618,
   "metadata": {
    "colab": {},
    "colab_type": "code",
    "id": "otO3SbrSVp_N"
   },
   "outputs": [
    {
     "data": {
      "text/plain": [
       "Drama              782\n",
       "Comedy             683\n",
       "Thriller           596\n",
       "Action             582\n",
       "Adventure          415\n",
       "Crime              315\n",
       "Romance            308\n",
       "Family             260\n",
       "Science Fiction    248\n",
       "Fantasy            222\n",
       "Horror             176\n",
       "Mystery            168\n",
       "Animation          139\n",
       "Music               64\n",
       "History             62\n",
       "War                 58\n",
       "Western             19\n",
       "Documentary          8\n",
       "Foreign              2\n",
       "dtype: int64"
      ]
     },
     "execution_count": 618,
     "metadata": {},
     "output_type": "execute_result"
    }
   ],
   "source": [
    "pd.Series(full_genres_list).value_counts() #создаем серию из всех перечисленных жанров с помощью \n",
    "                                           #списка, созданного из цикла в Предобработке"
   ]
  },
  {
   "cell_type": "markdown",
   "metadata": {
    "colab_type": "text",
    "id": "T9_bPWpkVp_Q"
   },
   "source": [
    "# 12. Фильмы какого жанра чаще всего становятся прибыльными? "
   ]
  },
  {
   "cell_type": "code",
   "execution_count": 622,
   "metadata": {
    "colab": {},
    "colab_type": "code",
    "id": "Tmt8MaK1Vp_R"
   },
   "outputs": [
    {
     "data": {
      "text/plain": [
       "'Drama'"
      ]
     },
     "execution_count": 622,
     "metadata": {},
     "output_type": "execute_result"
    }
   ],
   "source": [
    "most_profit_genres = data.query('revenue > budget').copy() #создаем копию датафрейма с фильтром для прибыльных фильмов\n",
    "\n",
    "most_profit_genres['genres'] = most_profit_genres.genres.str.split('|') #разделяем все жанры в рамках каждого фильма\n",
    "most_profit_genres = most_profit_genres.explode('genres')\n",
    "\n",
    "profit_genre = most_profit_genres.genres.value_counts().index[0] #подсчитываем количество прибыльных фильмов каждого жанра\n",
    "profit_genre                                                     #и выбираем самый прибыльный жанр"
   ]
  },
  {
   "cell_type": "markdown",
   "metadata": {
    "colab_type": "text",
    "id": "0F23bgsDVp_U"
   },
   "source": [
    "# 13. У какого режиссера самые большие суммарные кассовые сборы?"
   ]
  },
  {
   "cell_type": "code",
   "execution_count": 68,
   "metadata": {
    "colab": {},
    "colab_type": "code",
    "id": "K6Z3J8ygVp_X"
   },
   "outputs": [
    {
     "data": {
      "text/plain": [
       "'Peter Jackson'"
      ]
     },
     "execution_count": 68,
     "metadata": {},
     "output_type": "execute_result"
    }
   ],
   "source": [
    "directors_revenue = data.copy()\n",
    "directors_revenue.groupby(['director'])['revenue'].sum().sort_values(ascending=False).index[0] #суммируем кассовые сборы всех\n",
    "                                           #режиссеров и выбираем первого в списке режиссера"
   ]
  },
  {
   "cell_type": "markdown",
   "metadata": {
    "colab_type": "text",
    "id": "PsYC9FgRVp_a"
   },
   "source": [
    "# 14. Какой режисер снял больше всего фильмов в стиле Action?"
   ]
  },
  {
   "cell_type": "code",
   "execution_count": 69,
   "metadata": {
    "colab": {},
    "colab_type": "code",
    "id": "wd2M-wHeVp_b"
   },
   "outputs": [
    {
     "data": {
      "text/plain": [
       "'Robert Rodriguez'"
      ]
     },
     "execution_count": 69,
     "metadata": {},
     "output_type": "execute_result"
    }
   ],
   "source": [
    "action_director = data.copy()\n",
    "\n",
    "action_director['genres'] = action_director.genres.str.split('|') #разделяем все жанры в рамках каждого фильма\n",
    "action_director = action_director.explode('genres')\n",
    "\n",
    "action_director['director'] = action_director.director.str.split('|') #разделяем всеx режиссеров в рамках каждого фильма\n",
    "action_director = action_director.explode('director')\n",
    "\n",
    "action_director[action_director['genres'] == 'Action'].director.value_counts().sort_values(ascending=False).index[0] #фильтруем \n",
    "                                                                            #по жанру Экшн и считаем режиссеров в этом жанра"
   ]
  },
  {
   "cell_type": "markdown",
   "metadata": {
    "colab_type": "text",
    "id": "PQ0KciD7Vp_f"
   },
   "source": [
    "# 15. Фильмы с каким актером принесли самые высокие кассовые сборы в 2012 году? "
   ]
  },
  {
   "cell_type": "code",
   "execution_count": 70,
   "metadata": {
    "colab": {},
    "colab_type": "code",
    "id": "aga62oeKVp_g"
   },
   "outputs": [
    {
     "data": {
      "text/plain": [
       "'Chris Hemsworth'"
      ]
     },
     "execution_count": 70,
     "metadata": {},
     "output_type": "execute_result"
    }
   ],
   "source": [
    "most_revenue_actors = data.query('release_year == 2012').copy() #копируем датафрейм с фильтром на фильмы 2012 года\n",
    "\n",
    "most_revenue_actors['cast'] = most_revenue_actors.cast.str.split('|') #разделяем состав актеров на отдельных актеров\n",
    "most_revenue_actors = most_revenue_actors.explode('cast')             \n",
    "\n",
    "most_revenue_actors.groupby(['cast'])['revenue'].sum().sort_values(ascending=False).index[0] #группируем данные по каждому \n",
    "                      #актеру и суммарной выручке, которую получил фильм с их участием, и выбираем первого в списке актера"
   ]
  },
  {
   "cell_type": "markdown",
   "metadata": {
    "colab_type": "text",
    "id": "mWHyyL7QVp_j"
   },
   "source": [
    "# 16. Какой актер снялся в большем количестве высокобюджетных фильмов?"
   ]
  },
  {
   "cell_type": "code",
   "execution_count": 71,
   "metadata": {
    "colab": {},
    "colab_type": "code",
    "id": "qQtmHKTFVp_k"
   },
   "outputs": [
    {
     "data": {
      "text/plain": [
       "'Matt Damon'"
      ]
     },
     "execution_count": 71,
     "metadata": {},
     "output_type": "execute_result"
    }
   ],
   "source": [
    "bigbudget_films = data.query('budget > budget.mean()').copy() #создаем копию датафрейма \n",
    "                                                              #и оставляем только высокобюджетные фильмы (бюджет выше среднего)\n",
    "\n",
    "bigbudget_films['cast'] = bigbudget_films.cast.str.split('|') #разделяем состав актеров на отдельных актеров\n",
    "bigbudget_films = bigbudget_films.explode('cast')\n",
    "\n",
    "bigbudget_films.cast.value_counts().index[0] #посчитываем количество фильмов, в которых снялись актеры,\n",
    "                                             #и выбираем первого актера из списка"
   ]
  },
  {
   "cell_type": "markdown",
   "metadata": {
    "colab_type": "text",
    "id": "NIh6AaW5Vp_n"
   },
   "source": [
    "# 17. В фильмах какого жанра больше всего снимался Nicolas Cage? "
   ]
  },
  {
   "cell_type": "code",
   "execution_count": 10,
   "metadata": {
    "colab": {},
    "colab_type": "code",
    "id": "H74SJDIBVp_n"
   },
   "outputs": [
    {
     "data": {
      "text/plain": [
       "'Action'"
      ]
     },
     "execution_count": 10,
     "metadata": {},
     "output_type": "execute_result"
    }
   ],
   "source": [
    "Cage_genres = data.copy()\n",
    "\n",
    "Cage_genres['cast'] = Cage_genres.cast.str.split('|') #делим составы актеров на отдельных актеров\n",
    "Cage_genres = Cage_genres.explode('cast')\n",
    "\n",
    "Cage_genres['genres'] = Cage_genres.genres.str.split('|') #делим жанры в каждом фильме\n",
    "Cage_genres = Cage_genres.explode('genres')\n",
    "\n",
    "Cage_genres[Cage_genres['cast'] == 'Nicolas Cage'].genres.value_counts().sort_values(ascending=False).index[0] #выявляем все жанры,\n",
    "                                #в которых снимлся Николас Кейдж и делаем подсчет, после чего выбираем вариант первый из списка"
   ]
  },
  {
   "cell_type": "markdown",
   "metadata": {
    "colab_type": "text",
    "id": "RqOmPRfWVp_q"
   },
   "source": [
    "# 18. Самый убыточный фильм от Paramount Pictures"
   ]
  },
  {
   "cell_type": "code",
   "execution_count": 73,
   "metadata": {
    "colab": {},
    "colab_type": "code",
    "id": "9E_B0Y96Vp_r"
   },
   "outputs": [
    {
     "data": {
      "text/plain": [
       "925    tt0267626\n",
       "Name: imdb_id, dtype: object"
      ]
     },
     "execution_count": 73,
     "metadata": {},
     "output_type": "execute_result"
    }
   ],
   "source": [
    "most_unprofitable = data.copy()\n",
    "\n",
    "most_unprofitable['production_companies'] = most_unprofitable.production_companies.str.split('|') #делим все студии в каждом \n",
    "most_unprofitable = most_unprofitable.explode('production_companies')                             #фильме по отдельным строкам\n",
    "\n",
    "most_unprofitable = most_unprofitable[most_unprofitable['production_companies'] == 'Paramount Pictures'] #фильтруем датафрейм\n",
    "                                                                                                         #по нужной студии\n",
    "\n",
    "most_unprofitable[most_unprofitable['profit'] == most_unprofitable['profit'].min()].original_title #выводим название фильма\n",
    "most_unprofitable[most_unprofitable['profit'] == most_unprofitable['profit'].min()].imdb_id #выводим imbd фильма"
   ]
  },
  {
   "cell_type": "markdown",
   "metadata": {
    "colab_type": "text",
    "id": "vS8Ur6ddVp_u"
   },
   "source": [
    "# 19. Какой год стал самым успешным по суммарным кассовым сборам?"
   ]
  },
  {
   "cell_type": "code",
   "execution_count": 23,
   "metadata": {
    "colab": {},
    "colab_type": "code",
    "id": "Dnbt4GdIVp_v"
   },
   "outputs": [
    {
     "data": {
      "text/plain": [
       "2015"
      ]
     },
     "execution_count": 23,
     "metadata": {},
     "output_type": "execute_result"
    }
   ],
   "source": [
    "profitable_year = data.copy()\n",
    "\n",
    "profitable_year.groupby(['release_year'])['revenue'].sum().sort_values(ascending=False).index[0] #группируем данные датафрейм\n",
    "                                                                    #по годам и выручке,а после отображаем первый год в списке"
   ]
  },
  {
   "cell_type": "markdown",
   "metadata": {
    "colab_type": "text",
    "id": "JAzJh4QAVp_z"
   },
   "source": [
    "# 20. Какой самый прибыльный год для студии Warner Bros?"
   ]
  },
  {
   "cell_type": "code",
   "execution_count": 24,
   "metadata": {
    "colab": {},
    "colab_type": "code",
    "id": "wgVu02DEVp_0"
   },
   "outputs": [
    {
     "data": {
      "text/plain": [
       "2014"
      ]
     },
     "execution_count": 24,
     "metadata": {},
     "output_type": "execute_result"
    }
   ],
   "source": [
    "profitable_WB_year = data.copy()\n",
    "\n",
    "profitable_WB_year['production_companies'] = profitable_WB_year.production_companies.str.split('|') #делим все студии в каждом\n",
    "profitable_WB_year = profitable_WB_year.explode('production_companies')                             #фильме по отдельным строкам\n",
    "\n",
    "profitable_WB_year = profitable_WB_year[profitable_WB_year.production_companies.str.contains('Warner Bros')] #фильтруем \n",
    "                                                                                        #датафрейм по всем компаниям Warner Bros\n",
    "profitable_WB_year.groupby(['release_year'])['profit'].sum().sort_values(ascending=False).index[0] #находим самый прибыльный год"
   ]
  },
  {
   "cell_type": "markdown",
   "metadata": {
    "colab_type": "text",
    "id": "8Im1S2HRVp_4"
   },
   "source": [
    "# 21. В каком месяце за все годы суммарно вышло больше всего фильмов?"
   ]
  },
  {
   "cell_type": "code",
   "execution_count": 31,
   "metadata": {
    "colab": {},
    "colab_type": "code",
    "id": "lev6TH7gVp_4"
   },
   "outputs": [
    {
     "data": {
      "text/plain": [
       "9"
      ]
     },
     "execution_count": 31,
     "metadata": {},
     "output_type": "execute_result"
    }
   ],
   "source": [
    "release_record = data.copy()\n",
    "\n",
    "release_record['release_date'] = pd.to_datetime(release_record.release_date) #меняем формат даты релиза\n",
    "release_record['release_month'] = release_record['release_date'].dt.month #создаем отдельную колонку для месяца релиза\n",
    "\n",
    "release_record.groupby(['release_month'])['original_title'].count().sort_values(ascending=False).index[0] #находим \n",
    "                                                                                                    #рекордсмена среди месяцев"
   ]
  },
  {
   "cell_type": "markdown",
   "metadata": {
    "colab_type": "text",
    "id": "uAJsZ_NeVp_7"
   },
   "source": [
    "# 22. Сколько суммарно вышло фильмов летом? (за июнь, июль, август)"
   ]
  },
  {
   "cell_type": "code",
   "execution_count": null,
   "metadata": {},
   "outputs": [],
   "source": []
  },
  {
   "cell_type": "code",
   "execution_count": 35,
   "metadata": {
    "colab": {},
    "colab_type": "code",
    "id": "Aa-hEREoVp_8"
   },
   "outputs": [
    {
     "data": {
      "text/plain": [
       "450"
      ]
     },
     "execution_count": 35,
     "metadata": {},
     "output_type": "execute_result"
    }
   ],
   "source": [
    "summer_release = data.copy()\n",
    "\n",
    "summer_release['release_date'] = pd.to_datetime(summer_release.release_date) #меняем формат даты релиза\n",
    "summer_release['release_month'] = summer_release['release_date'].dt.month #создаем отдельную колонку для месяца релиза\n",
    "summer_release = summer_release[summer_release.release_month.isin([6,7,8])] #фильтруем датафрейм по летним месяцам\n",
    "\n",
    "summer_release = summer_release.groupby(['release_month'])['original_title'].count().sort_values(ascending=False) #считаем\n",
    "                                                                                        #количество фильмов в каждом месяце лета\n",
    "summer_release.sum() #считаем общее количество фильмов выпущенных летом"
   ]
  },
  {
   "cell_type": "markdown",
   "metadata": {
    "colab_type": "text",
    "id": "G94ppOY1VqAA"
   },
   "source": [
    "# 23. Для какого режиссера зима – самое продуктивное время года? "
   ]
  },
  {
   "cell_type": "code",
   "execution_count": 430,
   "metadata": {
    "colab": {},
    "colab_type": "code",
    "id": "RhNTsamuVqAB"
   },
   "outputs": [
    {
     "data": {
      "text/plain": [
       "'Peter Jackson'"
      ]
     },
     "execution_count": 430,
     "metadata": {},
     "output_type": "execute_result"
    }
   ],
   "source": [
    "winter_director = data.copy()\n",
    "\n",
    "winter_director['director'] = winter_director.director.str.split('|') #делим режиссеров в каждом фильме по отдельности\n",
    "winter_director = winter_director.explode('director')\n",
    "\n",
    "winter_director['release_date'] = pd.to_datetime(winter_director.release_date) #меняем формат даты релиза\n",
    "winter_director['release_month'] = winter_director['release_date'].dt.month #создаем отдельную колонку для месяца релиза\n",
    "winter_director = winter_director[winter_director.release_month.isin([12,1,2])] #фильтруем датафрейм по зимним месяцам\n",
    "\n",
    "winter_director.groupby(['director'])['original_title'].count().sort_values(ascending=False).index[0] #получаем режиссера"
   ]
  },
  {
   "cell_type": "markdown",
   "metadata": {
    "colab_type": "text",
    "id": "RBo0JVjVVqAF"
   },
   "source": [
    "# 24. Какая студия дает самые длинные названия своим фильмам по количеству символов?"
   ]
  },
  {
   "cell_type": "code",
   "execution_count": 36,
   "metadata": {
    "colab": {},
    "colab_type": "code",
    "id": "QRGS8L0iVqAG"
   },
   "outputs": [
    {
     "data": {
      "text/plain": [
       "'Four By Two Productions'"
      ]
     },
     "execution_count": 36,
     "metadata": {},
     "output_type": "execute_result"
    }
   ],
   "source": [
    "longest_titles = data.copy()\n",
    "\n",
    "longest_titles['production_companies'] = longest_titles.production_companies.str.split('|') #делим студии в каждом фильме\n",
    "longest_titles = longest_titles.explode('production_companies')                             #по отдельности\n",
    "\n",
    "longest_titles['len_of_title'] = longest_titles['original_title'].str.len() #создаем колонку, где указана длина названий фильмов\n",
    "\n",
    "longest_titles.groupby(['production_companies'])['len_of_title'].mean().sort_values(ascending=False).index[0] #выбираем студию \n",
    "                                                                                                    #по средней длине названий"
   ]
  },
  {
   "cell_type": "markdown",
   "metadata": {
    "colab_type": "text",
    "id": "9G0hbvR7VqAK"
   },
   "source": [
    "# 25. Описание фильмов какой студии в среднем самые длинные по количеству слов?"
   ]
  },
  {
   "cell_type": "code",
   "execution_count": 37,
   "metadata": {
    "colab": {},
    "colab_type": "code",
    "id": "Ge2GsLNxVqAK"
   },
   "outputs": [
    {
     "data": {
      "text/plain": [
       "'Midnight Picture Show'"
      ]
     },
     "execution_count": 37,
     "metadata": {},
     "output_type": "execute_result"
    }
   ],
   "source": [
    "longest_overview = data.copy()\n",
    "\n",
    "longest_overview['production_companies'] = longest_overview.production_companies.str.split('|') #делим студии в каждом фильме\n",
    "longest_overview = longest_overview.explode('production_companies')                             #по отдельности\n",
    "\n",
    "longest_overview['len_overview'] = longest_overview['overview'].str.len() #создаем колонку, где указана длина описаний фильмов\n",
    "\n",
    "longest_overview.groupby(['production_companies'])['len_overview'].mean().sort_values(ascending=False).index[0] #выбираем студию \n",
    "                                                                                                    #по средней длине описаний"
   ]
  },
  {
   "cell_type": "markdown",
   "metadata": {
    "colab_type": "text",
    "id": "FJ1AFt90VqAP"
   },
   "source": [
    "# 26. Какие фильмы входят в 1 процент лучших по рейтингу? \n",
    "по vote_average"
   ]
  },
  {
   "cell_type": "code",
   "execution_count": 559,
   "metadata": {
    "colab": {},
    "colab_type": "code",
    "id": "8qmJVq4CVqAQ"
   },
   "outputs": [],
   "source": [
    "best_films = data.copy()\n",
    "\n",
    "bf = best_films[best_films['vote_average'] > best_films['vote_average'].quantile(q=0.99)] #определяем 1% лучших фильмов\n",
    "best_film = [] #создаем список для лучших фильмов\n",
    "for film in bf.original_title: #создаем цикл для добавления всех лучших фильмов в список\n",
    "    best_film.append(film)\n",
    "\n",
    "\n",
    "\n",
    "answers['26'] = best_film #добавляем список в ответ к 26 заданию"
   ]
  },
  {
   "cell_type": "markdown",
   "metadata": {
    "colab_type": "text",
    "id": "MdXsUXbCVqAV"
   },
   "source": [
    "# 27. Какие актеры чаще всего снимаются в одном фильме вместе?\n"
   ]
  },
  {
   "cell_type": "markdown",
   "metadata": {
    "colab_type": "text",
    "id": "4ymnxEVoVqAW"
   },
   "source": [
    "ВАРИАНТ 2"
   ]
  },
  {
   "cell_type": "markdown",
   "metadata": {
    "colab_type": "text",
    "id": "U0nONFnGVqAX"
   },
   "source": [
    "# Submission"
   ]
  },
  {
   "cell_type": "code",
   "execution_count": 560,
   "metadata": {
    "colab": {},
    "colab_type": "code",
    "id": "IfcaRO9-VqAX",
    "outputId": "0f132912-32bb-4196-c98c-abfbc4ad5a5f"
   },
   "outputs": [
    {
     "data": {
      "text/plain": [
       "{'1': '5. Pirates of the Caribbean: On Stranger Tides (tt1298650)',\n",
       " '2': '2. Gods and Generals (tt0279111)',\n",
       " '3': '3. Winnie the Pooh (tt1449283)',\n",
       " '4': '2. 110',\n",
       " '5': '1. 107',\n",
       " '6': '5. Avatar (tt0499549)',\n",
       " '7': '5. The Lone Ranger (tt1210819)',\n",
       " '8': '1. 1478',\n",
       " '9': '4. The Dark Knight (tt0468569)',\n",
       " '10': '5. The Lone Ranger (tt1210819)',\n",
       " '11': '3. Drama',\n",
       " '12': '1. Drama',\n",
       " '13': '5. Peter Jackson',\n",
       " '14': '3. Robert Rodriguez',\n",
       " '15': '3. Chris Hemsworth',\n",
       " '16': '3. Matt Damon',\n",
       " '17': '2. Action',\n",
       " '18': '1. K-19: The Widowmaker (tt0267626)',\n",
       " '19': '5. 2015',\n",
       " '20': '1. 2014',\n",
       " '21': '4. September',\n",
       " '22': '2. 450',\n",
       " '23': '5. Peter Jackson',\n",
       " '24': '5. Four By Two Productions',\n",
       " '25': '3. Midnight Picture Show',\n",
       " '26': ['Inside Out',\n",
       "  'Room',\n",
       "  'Interstellar',\n",
       "  'Guardians of the Galaxy',\n",
       "  'The Imitation Game',\n",
       "  'Gone Girl',\n",
       "  'The Grand Budapest Hotel',\n",
       "  'Inception',\n",
       "  'The Dark Knight',\n",
       "  'The Pianist',\n",
       "  'The Lord of the Rings: The Return of the King',\n",
       "  'The Wolf of Wall Street',\n",
       "  '12 Years a Slave',\n",
       "  'Memento'],\n",
       " '27': '5. Daniel Radcliffe, Rupert Grint'}"
      ]
     },
     "execution_count": 560,
     "metadata": {},
     "output_type": "execute_result"
    }
   ],
   "source": [
    "# в конце можно посмотреть свои ответы к каждому вопросу\n",
    "answers"
   ]
  },
  {
   "cell_type": "code",
   "execution_count": 561,
   "metadata": {
    "colab": {},
    "colab_type": "code",
    "id": "SiRmHPl8VqAd"
   },
   "outputs": [
    {
     "data": {
      "text/plain": [
       "27"
      ]
     },
     "execution_count": 561,
     "metadata": {},
     "output_type": "execute_result"
    }
   ],
   "source": [
    "# и убедиться что ни чего не пропустил)\n",
    "len(answers)"
   ]
  },
  {
   "cell_type": "code",
   "execution_count": 38,
   "metadata": {
    "colab": {},
    "colab_type": "code",
    "id": "uCfuTkRbVqAg"
   },
   "outputs": [
    {
     "data": {
      "text/plain": [
       "(Daniel Radcliffe, Emma Watson)        8\n",
       "(Daniel Radcliffe, Rupert Grint)       8\n",
       "(Rupert Grint, Emma Watson)            7\n",
       "(Ben Stiller, Owen Wilson)             6\n",
       "(Johnny Depp, Helena Bonham Carter)    6\n",
       "Name: cast, dtype: int64"
      ]
     },
     "execution_count": 38,
     "metadata": {},
     "output_type": "execute_result"
    }
   ],
   "source": [
    "import itertools as it #добавляем новый сборник\n",
    "best_cast = data.copy()\n",
    "\n",
    "best_cast['cast'] = best_cast.cast.str.split('|').apply(lambda pair: list(it.combinations(pair,2))) #делим всех актеров на пары\n",
    "pairs = best_cast.explode('cast')                                                                   #по каждому фильму\n",
    "\n",
    "\n",
    "\n",
    "pairs.cast.value_counts().head() #считаем количество повторения каждой из пар и выбираем наиболее часто повторяемую для ответа"
   ]
  },
  {
   "cell_type": "code",
   "execution_count": null,
   "metadata": {
    "colab": {},
    "colab_type": "code",
    "id": "Vwx3NrkSVqAl"
   },
   "outputs": [],
   "source": []
  }
 ],
 "metadata": {
  "colab": {
   "name": "Copy of [SF-DST] Movies IMBD v4.1 TEMPLATE.ipynb",
   "provenance": []
  },
  "kernelspec": {
   "display_name": "Python 3",
   "language": "python",
   "name": "python3"
  },
  "language_info": {
   "codemirror_mode": {
    "name": "ipython",
    "version": 3
   },
   "file_extension": ".py",
   "mimetype": "text/x-python",
   "name": "python",
   "nbconvert_exporter": "python",
   "pygments_lexer": "ipython3",
   "version": "3.8.5"
  }
 },
 "nbformat": 4,
 "nbformat_minor": 1
}
